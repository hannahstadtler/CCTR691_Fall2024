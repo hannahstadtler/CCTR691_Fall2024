{
 "cells": [
  {
   "cell_type": "markdown",
   "id": "eb9bb655-ecc6-41ea-87b8-f61052673eb2",
   "metadata": {
    "tags": []
   },
   "source": [
    "# Hello World Lab\n",
    "This notebook is the first CCTR691 lab."
   ]
  },
  {
   "cell_type": "code",
   "execution_count": 1,
   "id": "ce31c8c0-41d5-42f1-8bd0-3f61a7e3c45f",
   "metadata": {
    "tags": []
   },
   "outputs": [
    {
     "name": "stdout",
     "output_type": "stream",
     "text": [
      "Hello World\n"
     ]
    }
   ],
   "source": [
    "print(\"Hello World\")"
   ]
  },
  {
   "cell_type": "code",
   "execution_count": null,
   "id": "0d108eb3-9e28-4cdc-b0b4-8655ab6a2b41",
   "metadata": {},
   "outputs": [],
   "source": []
  }
 ],
 "metadata": {
  "kernelspec": {
   "display_name": "Python 3 (ipykernel)",
   "language": "python",
   "name": "python3"
  },
  "language_info": {
   "codemirror_mode": {
    "name": "ipython",
    "version": 3
   },
   "file_extension": ".py",
   "mimetype": "text/x-python",
   "name": "python",
   "nbconvert_exporter": "python",
   "pygments_lexer": "ipython3",
   "version": "3.11.5"
  }
 },
 "nbformat": 4,
 "nbformat_minor": 5
}
